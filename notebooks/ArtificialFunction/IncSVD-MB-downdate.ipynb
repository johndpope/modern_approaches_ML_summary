{
 "cells": [
  {
   "cell_type": "code",
   "execution_count": 95,
   "metadata": {
    "collapsed": true
   },
   "outputs": [],
   "source": [
    "import numpy as np\n",
    "\n",
    "p = np.random.randint( 3, 10 )\n",
    "q = np.random.randint( 3, 10 )\n",
    "r = min( p, q )\n",
    "\n",
    "# construct a random matrix of size m, n\n",
    "A = np.random.randn( p, q ) + 1j*np.random.randn( p, q )\n",
    "\n",
    "# retrieve a first SVD representation\n",
    "U, s, Vt = np.linalg.svd( A, full_matrices=False )\n",
    "\n",
    "S = np.zeros(( r, r ), dtype=complex)\n",
    "S[:r, :r] = np.diag(s)"
   ]
  },
  {
   "cell_type": "code",
   "execution_count": 96,
   "metadata": {
    "collapsed": true
   },
   "outputs": [],
   "source": [
    "# select randomly a column from the initial matrix (to be removed)\n",
    "k = np.random.randint(q)\n",
    "a = -A[ :, k ].reshape( p,1 )\n",
    "\n",
    "# new matrix will have one extra column entry (update)\n",
    "b = np.zeros( (q,1) ); b[ k ] = 1\n",
    "\n",
    "# zero the column corresponding to the entry being removed\n",
    "Vt[ :, k ] = 0"
   ]
  },
  {
   "cell_type": "code",
   "execution_count": 97,
   "metadata": {},
   "outputs": [],
   "source": [
    "# construct the K matrix and its SVD representation\n",
    "nv = np.dot( Vt, b )\n",
    "Q = (b - np.dot( np.transpose(Vt), nv )) / np.sqrt( 1-np.dot( np.transpose(nv), nv ) )\n",
    "\n",
    "# construct a new S matrix (padding with a row and column of zeros)\n",
    "Sx = np.zeros( (r+1, r+1), dtype=complex )\n",
    "Sx[ 0:r, 0:r ] = S\n",
    "\n",
    "\n",
    "K = np.dot(\n",
    "    \n",
    "    Sx,\n",
    "    (\n",
    "        +np.identity( r+1, dtype=complex)\n",
    "        -np.dot(\n",
    "            np.append( np.dot( S, nv ), np.zeros( (1,1), dtype=complex ), axis= 0 ),\n",
    "            np.transpose( np.append( nv, np.sqrt( 1-np.dot( np.transpose(nv), nv ) ), axis=0 ) )\n",
    "        )\n",
    "    )\n",
    ")\n",
    "\n",
    "Up, sp, Vpt = np.linalg.svd( K, full_matrices=False )\n",
    "\n",
    "Sp = np.zeros(( r+1, r+1 ), dtype=complex)\n",
    "Sp[:r+1, :r+1] = np.diag(sp)"
   ]
  },
  {
   "cell_type": "code",
   "execution_count": 100,
   "metadata": {},
   "outputs": [],
   "source": [
    "# verify that the reconstructed matrix (using the SVD decomposition) matches the operation\n",
    "Aab = A+np.dot( a, np.transpose(b))\n",
    "\n",
    "Ai = np.dot(\n",
    "    np.dot( np.append( U, np.zeros( (p,1) ), axis=1 ), Up ), Sp \n",
    ")\n",
    "\n",
    "Ai = np.dot( \n",
    "    Ai, np.dot( \n",
    "        Vpt, np.transpose( np.append( np.transpose(Vt), Q, axis=1 ) )\n",
    "    ) \n",
    ")\n",
    "\n",
    "np.allclose( Aab, Ai )"
   ]
  },
  {
   "cell_type": "code",
   "execution_count": null,
   "metadata": {
    "collapsed": true
   },
   "outputs": [],
   "source": []
  }
 ],
 "metadata": {
  "kernelspec": {
   "display_name": "Python 3",
   "language": "python",
   "name": "python3"
  },
  "language_info": {
   "codemirror_mode": {
    "name": "ipython",
    "version": 3
   },
   "file_extension": ".py",
   "mimetype": "text/x-python",
   "name": "python",
   "nbconvert_exporter": "python",
   "pygments_lexer": "ipython3",
   "version": "3.6.3"
  }
 },
 "nbformat": 4,
 "nbformat_minor": 2
}

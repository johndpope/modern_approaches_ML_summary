{
 "cells": [
  {
   "cell_type": "code",
   "execution_count": 164,
   "metadata": {},
   "outputs": [
    {
     "name": "stdout",
     "output_type": "stream",
     "text": [
      "Once deleted, variables cannot be recovered. Proceed (y/[n])? y\n"
     ]
    }
   ],
   "source": [
    "% reset \n",
    "import numpy as np\n",
    "\n",
    "p = np.random.randint( 3, 10 )\n",
    "q = np.random.randint( 3, 10 )\n",
    "\n",
    "r = min( p, q )\n",
    "\n",
    "\n",
    "# construct a random matrix of size m, n\n",
    "A = np.random.randn( p, q )\n",
    "\n",
    "# retrieve a first SVD representation\n",
    "U, s, Vt = np.linalg.svd( A, full_matrices=False )\n",
    "\n",
    "S = np.zeros(( r, r ) )\n",
    "S[:r, :r] = np.diag(s)"
   ]
  },
  {
   "cell_type": "code",
   "execution_count": 165,
   "metadata": {
    "collapsed": true
   },
   "outputs": [],
   "source": [
    "# construct a random update vector\n",
    "a = np.random.randn( p, 1 )\n",
    "\n",
    "# new matrix will have one extra column entry (update)\n",
    "q = q + 1; b = np.zeros( (q,1) ); b[ q-1 ] = 1\n",
    "\n",
    "#extend the Vt matrix by adding a 'zero' column -- resulting A matrix would have an extra 'zero' column now\n",
    "Vt = np.append( Vt, np.zeros( ( r, 1) ), axis=1 )"
   ]
  },
  {
   "cell_type": "code",
   "execution_count": 166,
   "metadata": {
    "collapsed": true
   },
   "outputs": [],
   "source": [
    "# construct the K matrix and its SVD representation\n",
    "mv = np.dot( np.transpose( U ), a )\n",
    "pv = a - np.dot( U, mv )\n",
    "Ra = np.linalg.norm( pv )\n",
    "P = pv / Ra\n",
    "\n",
    "nv = np.dot( Vt, b )\n",
    "qv = b - np.dot( np.transpose( Vt ), nv )\n",
    "Rb = np.linalg.norm( qv )\n",
    "Q = qv / Rb\n",
    "\n",
    "# construct a new S matrix (padding with a row and column of zeros)\n",
    "Sx = np.zeros( (r+1, r+1) )\n",
    "Sx[ 0:r, 0:r ] = S\n",
    "\n",
    "\n",
    "K = Sx + np.dot( \n",
    "    np.append( mv, [Ra] ).reshape( r+1, 1 ),\n",
    "    np.append( nv, [Rb] ).reshape( 1, r+1 )\n",
    ")\n",
    "\n",
    "Up, sp, Vpt = np.linalg.svd( K, full_matrices=False )\n",
    "\n",
    "Sp = np.zeros(( r+1, r+1 ) )\n",
    "Sp[:r+1, :r+1] = np.diag(sp)"
   ]
  },
  {
   "cell_type": "code",
   "execution_count": 167,
   "metadata": {},
   "outputs": [
    {
     "data": {
      "text/plain": [
       "True"
      ]
     },
     "execution_count": 167,
     "metadata": {},
     "output_type": "execute_result"
    }
   ],
   "source": [
    "Ai = np.dot(\n",
    "    np.dot( np.append( U, P, axis=1 ), Up ), Sp \n",
    ")\n",
    "\n",
    "Ai = np.dot( \n",
    "    Ai, np.dot( \n",
    "        Vpt, np.transpose( np.append( np.transpose(Vt), Q, axis=1 ) )\n",
    "    ) \n",
    ")\n",
    "\n",
    "# verify that the reconstructed matrix (using the SVD decomposition) matches the operation\n",
    "Aab = np.append(A, np.zeros( (p,1) ), axis=1  ) + np.dot( a, np.transpose(b) )\n",
    "np.allclose( Aab, Ai )"
   ]
  },
  {
   "cell_type": "code",
   "execution_count": null,
   "metadata": {
    "collapsed": true
   },
   "outputs": [],
   "source": []
  }
 ],
 "metadata": {
  "kernelspec": {
   "display_name": "Python 3",
   "language": "python",
   "name": "python3"
  },
  "language_info": {
   "codemirror_mode": {
    "name": "ipython",
    "version": 3
   },
   "file_extension": ".py",
   "mimetype": "text/x-python",
   "name": "python",
   "nbconvert_exporter": "python",
   "pygments_lexer": "ipython3",
   "version": "3.6.3"
  }
 },
 "nbformat": 4,
 "nbformat_minor": 2
}

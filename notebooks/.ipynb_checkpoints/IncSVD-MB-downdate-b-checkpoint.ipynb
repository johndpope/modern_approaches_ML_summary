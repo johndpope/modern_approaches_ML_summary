{
 "cells": [
  {
   "cell_type": "code",
   "execution_count": 293,
   "metadata": {
    "collapsed": true
   },
   "outputs": [],
   "source": [
    "import numpy as np\n",
    "\n",
    "p = np.random.randint( 5, 10 )\n",
    "q = np.random.randint( 5, 10 )\n",
    "r = min( p, q )\n",
    "\n",
    "# construct a random matrix of size m, n\n",
    "A = np.random.randn( p, q ) + 1j*np.random.randn( p, q )\n",
    "\n",
    "# retrieve a first SVD representation\n",
    "U, s, Vt = np.linalg.svd( A, full_matrices=False )\n",
    "\n",
    "S = np.zeros(( r, r ), dtype=complex)\n",
    "S[:r, :r] = np.diag(s)"
   ]
  },
  {
   "cell_type": "code",
   "execution_count": 294,
   "metadata": {
    "collapsed": true
   },
   "outputs": [],
   "source": [
    "# select randomly a column from the initial matrix (to be removed)\n",
    "k = np.random.randint(q)\n",
    "a = -A[ :, k ].reshape( p,1 )\n",
    "\n",
    "# new matrix will have one extra column entry (update)\n",
    "b = np.zeros( (q,1) ); b[ k ] = 1\n",
    "\n",
    "# drop the column corresponding to the entry being removed\n",
    "Vt[ :, np.r_[0:k,k+1:q] ]"
   ]
  },
  {
   "cell_type": "code",
   "execution_count": 287,
   "metadata": {
    "collapsed": true
   },
   "outputs": [],
   "source": [
    "# construct the K matrix and its SVD representation\n",
    "nv = np.dot( Vt, b )\n",
    "Q = (b - np.dot( np.transpose(Vt), nv )) / np.sqrt( 1-np.dot( np.transpose(nv), nv ) )\n",
    "\n",
    "# construct a new S matrix (padding with a row and column of zeros)\n",
    "Sx = np.zeros( (r+1, r+1), dtype=complex )\n",
    "Sx[ 0:r, 0:r ] = S\n",
    "\n",
    "\n",
    "K = np.dot(\n",
    "    \n",
    "    Sx,\n",
    "    (\n",
    "        +np.identity( r+1, dtype=complex)\n",
    "        -np.dot(\n",
    "            np.append( np.dot( S, nv ), np.zeros( (1,1), dtype=complex ), axis= 0 ),\n",
    "            np.transpose( np.append( nv, np.sqrt( 1-np.dot( np.transpose(nv), nv ) ), axis=0 ) )\n",
    "        )\n",
    "    )\n",
    ")\n",
    "\n",
    "Up, sp, Vpt = np.linalg.svd( K, full_matrices=False )\n",
    "\n",
    "Sp = np.zeros(( r+1, r+1 ), dtype=complex)\n",
    "Sp[:r+1, :r+1] = np.diag(sp)"
   ]
  },
  {
   "cell_type": "code",
   "execution_count": 288,
   "metadata": {},
   "outputs": [
    {
     "name": "stdout",
     "output_type": "stream",
     "text": [
      "[[-1.34518804+0.51339655j -0.38941916-0.05828036j  0.00000000+0.j\n",
      "  -0.65419404+0.64657617j  0.63208073+0.50681697j -0.79327867+1.5004123j ]\n",
      " [-0.83733355+0.80493991j -1.28140234-0.52847805j  0.00000000+0.j\n",
      "  -1.63564100+1.70049982j  0.51402774+0.40658187j  0.19432554-0.78837175j]\n",
      " [-0.72601464-1.43608969j -1.05792245-1.15371132j  0.00000000+0.j\n",
      "  -0.87081144-0.20978134j -0.57389168+0.34587241j  0.50055959+0.03102395j]\n",
      " [-1.62075255+0.31679594j  1.34566834+1.03641994j  0.00000000+0.j\n",
      "  -0.80766701-1.65893975j  0.22159041-0.27176962j  1.83959024-1.01065791j]\n",
      " [ 0.81731972-0.40615027j -0.56098250+3.32880813j  0.00000000+0.j\n",
      "  -0.29865057+0.69481539j -0.89560471+0.22662625j  0.88387300+0.24085571j]]\n",
      "True\n",
      "[[-1.34518804+0.51339655j -0.38941916-0.05828036j  0.00000000+0.j\n",
      "  -0.65419404+0.64657617j  0.63208073+0.50681697j -0.79327867+1.5004123j ]\n",
      " [-0.83733355+0.80493991j -1.28140234-0.52847805j  0.00000000+0.j\n",
      "  -1.63564100+1.70049982j  0.51402774+0.40658187j  0.19432554-0.78837175j]\n",
      " [-0.72601464-1.43608969j -1.05792245-1.15371132j  0.00000000+0.j\n",
      "  -0.87081144-0.20978134j -0.57389168+0.34587241j  0.50055959+0.03102395j]\n",
      " [-1.62075255+0.31679594j  1.34566834+1.03641994j  0.00000000+0.j\n",
      "  -0.80766701-1.65893975j  0.22159041-0.27176962j  1.83959024-1.01065791j]\n",
      " [ 0.81731972-0.40615027j -0.56098250+3.32880813j  0.00000000+0.j\n",
      "  -0.29865057+0.69481539j -0.89560471+0.22662625j  0.88387300+0.24085571j]]\n"
     ]
    }
   ],
   "source": [
    "# verify that the reconstructed matrix (using the SVD decomposition) matches the operation\n",
    "Aab = A+np.dot( a, np.transpose(b))\n",
    "print( Aab )\n",
    "\n",
    "Ai = np.dot(\n",
    "    np.dot( np.append( U, np.zeros( (p,1) ), axis=1 ), Up ), Sp \n",
    ")\n",
    "\n",
    "Ai = np.dot( \n",
    "    Ai, np.dot( \n",
    "        Vpt, np.transpose( np.append( np.transpose(Vt), Q, axis=1 ) )\n",
    "    ) \n",
    ")\n",
    "\n",
    "print( np.allclose( Aab, Ai ) )\n",
    "print( Ai )"
   ]
  },
  {
   "cell_type": "code",
   "execution_count": null,
   "metadata": {
    "collapsed": true
   },
   "outputs": [],
   "source": []
  }
 ],
 "metadata": {
  "kernelspec": {
   "display_name": "Python 3",
   "language": "python",
   "name": "python3"
  },
  "language_info": {
   "codemirror_mode": {
    "name": "ipython",
    "version": 3
   },
   "file_extension": ".py",
   "mimetype": "text/x-python",
   "name": "python",
   "nbconvert_exporter": "python",
   "pygments_lexer": "ipython3",
   "version": "3.6.3"
  }
 },
 "nbformat": 4,
 "nbformat_minor": 2
}

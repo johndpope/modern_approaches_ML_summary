{
 "cells": [
  {
   "cell_type": "code",
   "execution_count": 40,
   "metadata": {
    "collapsed": true
   },
   "outputs": [],
   "source": [
    "import numpy as np\n",
    "\n",
    "p = np.random.randint( 3, 10 )\n",
    "q = np.random.randint( 3, 10 )\n",
    "r = min( p, q )\n",
    "\n",
    "\n",
    "# construct a random matrix of size m, n\n",
    "A = np.random.randn( p, q ) + 1j*np.random.randn( p, q )\n",
    "\n",
    "# retrieve a first SVD representation\n",
    "U, s, Vt = np.linalg.svd( A, full_matrices=False )\n",
    "\n",
    "S = np.zeros(( r, r ), dtype=complex)\n",
    "S[:r, :r] = np.diag(s)"
   ]
  },
  {
   "cell_type": "code",
   "execution_count": 41,
   "metadata": {
    "collapsed": true
   },
   "outputs": [],
   "source": [
    "# construct a random update vector\n",
    "a = np.random.randn( p, 1 ) + 1j*np.random.randn( p, 1 )\n",
    "\n",
    "# new matrix will have one extra column entry (update)\n",
    "q = q + 1; b = np.zeros( (q,1) ); b[ q-1 ] = 1\n",
    "\n",
    "#extend the Vt matrix by adding a 'zero' column -- resulting A matrix would have an extra 'zero' column now\n",
    "Vt = np.append( Vt, np.zeros( ( r, 1), dtype=complex ), axis=1 )"
   ]
  },
  {
   "cell_type": "code",
   "execution_count": 42,
   "metadata": {
    "collapsed": true
   },
   "outputs": [],
   "source": [
    "# construct the K matrix and its SVD representation\n",
    "mv = np.dot( np.transpose( U ), a )\n",
    "pv = a - np.dot( U, mv )\n",
    "Ra = np.linalg.norm( pv )\n",
    "P = pv / Ra\n",
    "\n",
    "nv = np.dot( Vt, b )\n",
    "qv = b - np.dot( np.transpose( Vt ), nv )\n",
    "Rb = np.linalg.norm( qv )\n",
    "Q = qv / Rb\n",
    "\n",
    "# construct a new S matrix (padding with a row and column of zeros)\n",
    "Sx = np.zeros( (r+1, r+1), dtype=complex )\n",
    "Sx[ 0:r, 0:r ] = S\n",
    "\n",
    "\n",
    "K = Sx + np.dot( \n",
    "    np.append( mv, [Ra] ).reshape( r+1, 1 ),\n",
    "    np.append( nv, [Rb] ).reshape( 1, r+1 )\n",
    ")\n",
    "\n",
    "Up, sp, Vpt = np.linalg.svd( K, full_matrices=False )\n",
    "\n",
    "Sp = np.zeros(( r+1, r+1 ), dtype=complex)\n",
    "Sp[:r+1, :r+1] = np.diag(sp)"
   ]
  },
  {
   "cell_type": "code",
   "execution_count": 43,
   "metadata": {},
   "outputs": [
    {
     "data": {
      "text/plain": [
       "True"
      ]
     },
     "execution_count": 43,
     "metadata": {},
     "output_type": "execute_result"
    }
   ],
   "source": [
    "Ai = np.dot(\n",
    "    np.dot( np.append( U, P, axis=1 ), Up ), Sp \n",
    ")\n",
    "\n",
    "Ai = np.dot( \n",
    "    Ai, np.dot( \n",
    "        Vpt, np.transpose( np.append( np.transpose(Vt), Q, axis=1 ) )\n",
    "    ) \n",
    ")\n",
    "\n",
    "# verify that the reconstructed matrix (using the SVD decomposition) matches the operation\n",
    "Aab = np.append(A, np.zeros( (p,1), dtype=complex), axis=1  ) + np.dot( a, np.transpose(b) )\n",
    "np.allclose( Aab, Ai )"
   ]
  },
  {
   "cell_type": "markdown",
   "metadata": {
    "collapsed": true
   },
   "source": [
    "Will now generate a new entry and run an update in an (optimized) way:"
   ]
  },
  {
   "cell_type": "code",
   "execution_count": 44,
   "metadata": {
    "collapsed": true
   },
   "outputs": [],
   "source": [
    "# construct a random update vector\n",
    "a = np.random.randn( p, 1 ) + 1j*np.random.randn( p, 1 )\n",
    "\n",
    "# new matrix will have one extra column entry (update)\n",
    "q = q + 1; b = np.zeros( (q,1) ); b[ q-1 ] = 1\n",
    "\n",
    "#extend the Vt matrix by adding a 'zero' column -- resulting A matrix would have an extra 'zero' column now\n",
    "Vt = np.append( Vt, np.zeros( ( r, 1), dtype=complex ), axis=1 )"
   ]
  },
  {
   "cell_type": "code",
   "execution_count": 46,
   "metadata": {},
   "outputs": [],
   "source": [
    "rK = np.count_nonzero( sp )\n",
    "\n",
    "# construct the K matrix and its SVD representation\n",
    "mv = np.dot( np.transpose( U ), a )\n",
    "pv = a - np.dot( U, mv )\n",
    "Ra = np.linalg.norm( pv )\n",
    "P = pv / Ra\n",
    "\n",
    "nv = np.dot( Vt, b )\n",
    "qv = b - np.dot( np.transpose( Vt ), nv )\n",
    "Rb = np.linalg.norm( qv )\n",
    "Q = qv / Rb\n",
    "\n",
    "# construct a new S matrix (padding with a row and column of zeros)\n",
    "Sx = np.zeros( (r+1, r+1), dtype=complex )\n",
    "Sx[ 0:r, 0:r ] = S\n",
    "\n",
    "\n",
    "K = Sx + np.dot( \n",
    "    np.append( mv, [Ra] ).reshape( r+1, 1 ),\n",
    "    np.append( nv, [Rb] ).reshape( 1, r+1 )\n",
    ")\n",
    "\n",
    "C, sp, Dt = np.linalg.svd( K, full_matrices=False )\n",
    "\n",
    "Sp = np.zeros(( r+1, r+1 ), dtype=complex)\n",
    "Sp[:r+1, :r+1] = np.diag(sp)\n",
    "\n",
    "\n",
    "if rK == np.count_nonzero( sp ):\n",
    "    Up = np.dot( Up, C )\n",
    "    \n",
    "else:\n",
    "    Uz = np.zeros( (r+1, r+1), dtype=complex )\n",
    "    Uz[ 0:r, 0:r ] = Up\n",
    "    \n",
    "    Up = np.dot( Up, C )\n",
    "\n",
    "    "
   ]
  },
  {
   "cell_type": "code",
   "execution_count": null,
   "metadata": {
    "collapsed": true
   },
   "outputs": [],
   "source": []
  }
 ],
 "metadata": {
  "kernelspec": {
   "display_name": "Python 3",
   "language": "python",
   "name": "python3"
  },
  "language_info": {
   "codemirror_mode": {
    "name": "ipython",
    "version": 3
   },
   "file_extension": ".py",
   "mimetype": "text/x-python",
   "name": "python",
   "nbconvert_exporter": "python",
   "pygments_lexer": "ipython3",
   "version": "3.6.3"
  }
 },
 "nbformat": 4,
 "nbformat_minor": 2
}

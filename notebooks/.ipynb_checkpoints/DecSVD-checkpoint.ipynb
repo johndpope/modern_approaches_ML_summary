{
 "cells": [
  {
   "cell_type": "markdown",
   "metadata": {},
   "source": [
    "First construct an SVD of a random matrix:"
   ]
  },
  {
   "cell_type": "code",
   "execution_count": 12,
   "metadata": {},
   "outputs": [
    {
     "data": {
      "text/plain": [
       "True"
      ]
     },
     "execution_count": 12,
     "metadata": {},
     "output_type": "execute_result"
    }
   ],
   "source": [
    "import numpy as np\n",
    "\n",
    "m = np.random.randint( 5, 10 )\n",
    "n = np.random.randint( 5, 10 )\n",
    "k = min( m, n )\n",
    "\n",
    "A = np.random.randn( m, n ) + 1j*np.random.randn( m, n )\n",
    "\n",
    "# calculate the \\bar{a} - mean of the original matrix A\n",
    "ab = np.dot( A, np.ones( (n, 1 ), dtype=complex ) ) / m\n",
    "# ...and the mean centered dataset \\bar{A}\n",
    "Ab = A - np.dot( ab, np.ones( (1,n) ) );\n",
    "\n",
    "U, s, Vt = np.linalg.svd( Ab, full_matrices=False )\n",
    "\n",
    "S = np.zeros(( k, k ), dtype=complex)\n",
    "S[:k, :k] = np.diag(s)\n",
    "\n",
    "np.allclose( A, np.dot( U, np.dot(S, Vt)) + np.dot( ab, np.ones((1,n))) )"
   ]
  },
  {
   "cell_type": "markdown",
   "metadata": {},
   "source": [
    "Drop some of the columns in A (randomly) -- we need to calculate incrementally the SVD of Ad:"
   ]
  },
  {
   "cell_type": "code",
   "execution_count": 13,
   "metadata": {
    "collapsed": true
   },
   "outputs": [],
   "source": [
    "# select a number of columns to drop (from the original matrix); matrix we need to incrementally approximate\n",
    "indx = np.random.choice( range(n), np.random.randint(1,n/2), replace=False )\n",
    "Ad = np.delete( A, indx, 1)"
   ]
  },
  {
   "cell_type": "code",
   "execution_count": 14,
   "metadata": {
    "collapsed": true
   },
   "outputs": [],
   "source": [
    "# ...number of remaining columns\n",
    "l = Ad.shape[ 1 ]\n",
    "\n",
    "# \\widetilde{V}^T matrix with corresponding entries droped (columns below as .svd() provides V transposed, i.e. Vt)\n",
    "Vttld = np.delete( Vt, indx, 1 )\n",
    "\n",
    "# calculate the \\bar{v}^T mean and center the Vttld matrix\n",
    "vtb = np.dot( Vttld, np.ones( (l, 1), dtype=complex ) ) / l\n",
    "\n",
    "# calculate \\hat{V}^T = \\widetilde{V}^T - \\bar{v}^T x 1\n",
    "Vthat = Vttld - np.dot( vtb, np.ones( (1, l), dtype=complex ) )\n",
    "\n",
    "# we need the QR-decomposition of the \\hat{V} matrix (given \\hat{V}^T, we obtain R^T, Q^T)\n",
    "Rt, Qt = np.linalg.qr( Vthat )"
   ]
  },
  {
   "cell_type": "markdown",
   "metadata": {},
   "source": [
    "Calculate the (incremental) SVD components for the Ad matrix, i.e. where columns were dropped:"
   ]
  },
  {
   "cell_type": "code",
   "execution_count": 15,
   "metadata": {
    "collapsed": true
   },
   "outputs": [],
   "source": [
    "# SVD of U \\Sigma R^T\n",
    "Ud, sd, Vtt = np.linalg.svd( np.dot( U, np.dot( S, Rt ) ), full_matrices=False )\n",
    "\n",
    "# ...and last the (V^d)^T component of the SVD\n",
    "Vdt = np.dot( Vtt, Qt )\n",
    "\n",
    "# ...\\Delta{a}^d = U \\Sigma \\bar{v}\n",
    "Da = np.dot( U, np.dot( S, vtb ) )\n",
    "# ...and finally \\bar{a}^d = \\bar{a} + \\Delta{a}^d\n",
    "ad = ab+Da"
   ]
  },
  {
   "cell_type": "code",
   "execution_count": 11,
   "metadata": {},
   "outputs": [
    {
     "data": {
      "text/plain": [
       "True"
      ]
     },
     "execution_count": 11,
     "metadata": {},
     "output_type": "execute_result"
    }
   ],
   "source": [
    "kn = min( m, l )\n",
    "Sd = np.zeros(( kn, kn ), dtype=complex)\n",
    "Sd[:kn, :kn] = np.diag(sd)\n",
    "\n",
    "AdSVD = np.dot( Ud, np.dot( Sd, Vdt ) ) + np.dot( ad, np.ones( (1,l)))\n",
    "np.allclose( Ad, AdSVD)"
   ]
  },
  {
   "cell_type": "code",
   "execution_count": null,
   "metadata": {
    "collapsed": true
   },
   "outputs": [],
   "source": []
  }
 ],
 "metadata": {
  "kernelspec": {
   "display_name": "Python 3",
   "language": "python",
   "name": "python3"
  },
  "language_info": {
   "codemirror_mode": {
    "name": "ipython",
    "version": 3
   },
   "file_extension": ".py",
   "mimetype": "text/x-python",
   "name": "python",
   "nbconvert_exporter": "python",
   "pygments_lexer": "ipython3",
   "version": "3.6.3"
  }
 },
 "nbformat": 4,
 "nbformat_minor": 2
}

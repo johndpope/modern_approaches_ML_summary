{
 "cells": [
  {
   "cell_type": "markdown",
   "metadata": {},
   "source": [
    "# Introduction\n",
    "---\n",
    "\n",
    "In this work we will go through time series not evenly spaced data analysis.  \n",
    "We will create syntetic data of 2 random variables x1 and x2, and adding some noise to the linear combination of some of the lags of these two variables we will determine y, the response.  \n",
    "\n",
    "This way we can make sure that the function is not 100% predictable, the response depends on the predictors, and that there is a time dependency caused by the effect of previous lags of the predictors on the response.  "
   ]
  },
  {
   "cell_type": "markdown",
   "metadata": {},
   "source": [
    "## Contents\n",
    "---\n",
    "We will go through the different aspects:  \n",
    "\n",
    "1 - Timeseries Package  \n",
    "2 - Data Creation and Construction of Baseline Models    \n",
    "3 - LSTM  \n",
    "4 - Gaussian Processes  \n",
    "5 - Genetic Programing - Symbolic Regression  \n",
    "6 - \n"
   ]
  }
 ],
 "metadata": {
  "kernelspec": {
   "display_name": "Python 3",
   "language": "python",
   "name": "python3"
  },
  "language_info": {
   "codemirror_mode": {
    "name": "ipython",
    "version": 3
   },
   "file_extension": ".py",
   "mimetype": "text/x-python",
   "name": "python",
   "nbconvert_exporter": "python",
   "pygments_lexer": "ipython3",
   "version": "3.6.4"
  }
 },
 "nbformat": 4,
 "nbformat_minor": 2
}

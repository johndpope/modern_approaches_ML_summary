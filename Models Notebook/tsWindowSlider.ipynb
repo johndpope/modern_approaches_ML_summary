{
 "cells": [
  {
   "cell_type": "markdown",
   "metadata": {},
   "source": [
    "# Module tswindowslider\n",
    "---\n",
    "This python script will create windows given a time series data"
   ]
  },
  {
   "cell_type": "code",
   "execution_count": 2,
   "metadata": {},
   "outputs": [],
   "source": [
    "import copy as cp\n",
    "import numpy as np\n",
    "import pandas as pd"
   ]
  },
  {
   "cell_type": "markdown",
   "metadata": {},
   "source": [
    "Figure (preferable GIF) of the Window Method"
   ]
  },
  {
   "cell_type": "code",
   "execution_count": 3,
   "metadata": {},
   "outputs": [],
   "source": [
    "class WindowSlider(object):\n",
    "    \n",
    "    def __init__(self, window_size = 5):        \n",
    "        '''\n",
    "        Window Slider object\n",
    "        ====================\n",
    "        w: window_size - number of time steps to look back\n",
    "        o: offset between last reading and temperature\n",
    "        r: response_size - number of time steps to predict\n",
    "        l: maximum length to slide - (#observation - w)\n",
    "        p: final predictors - (#predictors * w)\n",
    "        '''\n",
    "        self.w = window_size\n",
    "        self.o = 0\n",
    "        self.r = 1       \n",
    "        self.l = 0\n",
    "        self.p = 0\n",
    "        self.names = []\n",
    "        \n",
    "    def re_init(self, arr):\n",
    "        '''\n",
    "        Helper function to initializate to 0 a vector\n",
    "        '''\n",
    "        arr = np.cumsum(arr)\n",
    "        return arr - arr[0]\n",
    "                \n",
    "\n",
    "    def collect_windows(self, X, window_size=5, offset=0, previous_y=False):\n",
    "        '''\n",
    "        Input: X is the input matrix, each column is a variable\n",
    "        Returns: diferent mappings window-output\n",
    "        '''\n",
    "        cols = len(list(X)) - 1\n",
    "        N = len(X)\n",
    "        \n",
    "        self.o = offset\n",
    "        self.w = window_size\n",
    "        self.l = N - (self.w + self.r) + 1\n",
    "        if not previous_y: self.p = cols * (self.w)\n",
    "        if previous_y: self.p = (cols + 1) * (self.w)\n",
    "        \n",
    "        # Create the names of the variables in the window\n",
    "        # Check first if we need to create that for the response itself\n",
    "        if previous_y: x = cp.deepcopy(X)\n",
    "        if not previous_y: x = X.drop(X.columns[-1], axis=1)  \n",
    "        \n",
    "        for j, col in enumerate(list(x)):        \n",
    "                \n",
    "            for i in range(self.w):\n",
    "                \n",
    "                name = col + ('(%d)' % (i+1))\n",
    "                self.names.append(name)\n",
    "        \n",
    "        # Incorporate the timestamps where we want to predict\n",
    "        for k in range(self.r):\n",
    "            \n",
    "            name = '∆t' + ('(%d)' % (self.w + k + 1))\n",
    "            self.names.append(name)\n",
    "            \n",
    "        self.names.append('Y')\n",
    "                \n",
    "        df = pd.DataFrame(np.zeros(shape=(self.l, (self.p + self.r + 1))), \n",
    "                          columns=self.names)\n",
    "        \n",
    "        # Populate by rows in the new dataframe\n",
    "        for i in range(self.l):\n",
    "            \n",
    "            slices = np.array([])\n",
    "            \n",
    "            # Flatten the lags of predictors\n",
    "            for p in range(x.shape[1]):\n",
    "            \n",
    "                line = X.values[i:self.w + i, p]\n",
    "                # Reinitialization at every window for ∆T\n",
    "                if p == 0: line = self.re_init(line)\n",
    "                    \n",
    "                # Concatenate the lines in one slice    \n",
    "                slices = np.concatenate((slices, line)) \n",
    " \n",
    "            # Incorporate the timestamps where we want to predict\n",
    "            line = np.array([self.re_init(X.values[i:i+self.w+self.r, 0])[-1]])\n",
    "            y = np.array(X.values[self.w + i + self.r - 1, -1]).reshape(1,)\n",
    "            slices = np.concatenate((slices, line, y))\n",
    "            \n",
    "            # Incorporate the slice to the cake (df)\n",
    "            df.iloc[i,:] = slices\n",
    "            \n",
    "        return df"
   ]
  },
  {
   "cell_type": "code",
   "execution_count": null,
   "metadata": {},
   "outputs": [],
   "source": []
  }
 ],
 "metadata": {
  "kernelspec": {
   "display_name": "Python 3",
   "language": "python",
   "name": "python3"
  },
  "language_info": {
   "codemirror_mode": {
    "name": "ipython",
    "version": 3
   },
   "file_extension": ".py",
   "mimetype": "text/x-python",
   "name": "python",
   "nbconvert_exporter": "python",
   "pygments_lexer": "ipython3",
   "version": "3.6.4"
  }
 },
 "nbformat": 4,
 "nbformat_minor": 2
}
